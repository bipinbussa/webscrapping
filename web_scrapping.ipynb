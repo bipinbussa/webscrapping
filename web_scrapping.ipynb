{
  "nbformat": 4,
  "nbformat_minor": 0,
  "metadata": {
    "colab": {
      "name": "web scrapping.ipynb",
      "provenance": [],
      "collapsed_sections": []
    },
    "kernelspec": {
      "name": "python3",
      "display_name": "Python 3"
    },
    "language_info": {
      "name": "python"
    }
  },
  "cells": [
    {
      "cell_type": "markdown",
      "metadata": {
        "id": "pGThsIYn2IrB"
      },
      "source": [
        "#web scrapping\n",
        "steps:\n",
        "\n",
        "1.find url \n",
        "\n",
        "2.inspect\n",
        "\n",
        "3.find data\n",
        "\n",
        "4.code\n",
        "\n",
        "5.execute\n",
        "\n",
        "\n",
        "6.store data"
      ]
    },
    {
      "cell_type": "code",
      "metadata": {
        "id": "oFHRIIv22enB"
      },
      "source": [
        "from bs4 import BeautifulSoup\n",
        "import requests\n",
        "import pandas as pd\n"
      ],
      "execution_count": null,
      "outputs": []
    },
    {
      "cell_type": "code",
      "metadata": {
        "id": "4PCVM8N92w00"
      },
      "source": [
        "url=\"https://www.flipkart.com/search?q=laptop&otracker=search&otracker1=search&marketplace=FLIPKART&as-show=on&as=off\"\n"
      ],
      "execution_count": null,
      "outputs": []
    },
    {
      "cell_type": "code",
      "metadata": {
        "colab": {
          "base_uri": "https://localhost:8080/"
        },
        "id": "dc4N9tTQ3ORr",
        "outputId": "b3962577-7ce0-4899-9ec1-532e809faed8"
      },
      "source": [
        "response=requests.get(url)\n",
        "print(response)\n",
        "#print(response.content)\n",
        "htmlcontent=response.content"
      ],
      "execution_count": null,
      "outputs": [
        {
          "output_type": "stream",
          "text": [
            "<Response [200]>\n"
          ],
          "name": "stdout"
        }
      ]
    },
    {
      "cell_type": "code",
      "metadata": {
        "colab": {
          "base_uri": "https://localhost:8080/"
        },
        "id": "Ahd-uIbd3dSo",
        "outputId": "bd77f73f-f888-478f-839c-9b51730b56a9"
      },
      "source": [
        "soup=BeautifulSoup(htmlcontent,\"html.parser\")\n",
        "print(soup.pettify)"
      ],
      "execution_count": null,
      "outputs": [
        {
          "output_type": "stream",
          "text": [
            "None\n"
          ],
          "name": "stdout"
        }
      ]
    },
    {
      "cell_type": "code",
      "metadata": {
        "colab": {
          "base_uri": "https://localhost:8080/"
        },
        "id": "aU4PSfBo36X6",
        "outputId": "c8e13fdf-255e-489c-f42e-bdcc6206cf4b"
      },
      "source": [
        "products=[]\n",
        "prices=[]\n",
        "ratings=[]\n",
        "product=soup.find('div',attrs={'class':'_4rR01T'})\n",
        "print(product.text)"
      ],
      "execution_count": null,
      "outputs": [
        {
          "output_type": "stream",
          "text": [
            "ASUS Ryzen 5 Quad Core 3500U - (8 GB/1 TB HDD/Windows 10 Home) M515DA-BQ502TS Thin and Light Laptop\n"
          ],
          "name": "stdout"
        }
      ]
    },
    {
      "cell_type": "code",
      "metadata": {
        "colab": {
          "base_uri": "https://localhost:8080/"
        },
        "id": "jpvAylEx41Iu",
        "outputId": "4362de99-c270-47ff-cfa6-95c6fba4fdc6"
      },
      "source": [
        "for i in soup.find_all('a',href=True,attrs={'class':'_1fQZEK'}):\n",
        "  product=i.find('div',attrs={'class':'_4rR01T'})\n",
        "  products.append(product.text)\n",
        "products"
      ],
      "execution_count": null,
      "outputs": [
        {
          "output_type": "execute_result",
          "data": {
            "text/plain": [
              "['ASUS Ryzen 5 Quad Core 3500U - (8 GB/1 TB HDD/Windows 10 Home) M515DA-BQ502TS Thin and Light Laptop',\n",
              " 'MSI GL65 Leopard Core i7 10th Gen - (16 GB/1 TB HDD/256 GB SSD/Windows 10 Home/6 GB Graphics/NVIDIA Ge...',\n",
              " 'DELL Inspiron 3501 Core i5 11th Gen - (8 GB/1 TB HDD/256 GB SSD/Windows 10 Home) Inspiron 3501 Laptop',\n",
              " 'HP 14s Core i3 11th Gen - (8 GB/256 GB SSD/Windows 10 Home) 14s- DY2501TU Thin and Light Laptop',\n",
              " 'HP 15s Athlon Dual Core - (4 GB/1 TB HDD/Windows 10 Home) 15s-GY0001AU Thin and Light Laptop',\n",
              " 'HP Pentium Quad Core - (8 GB/256 GB SSD/Windows 10 Home) 14s- DQ3018TU Thin and Light Laptop',\n",
              " 'ASUS VivoBook 15 Core i3 10th Gen - (8 GB/1 TB HDD/Windows 10 Home) X515JA-EJ322TS Thin and Light Lapt...',\n",
              " 'ASUS Ryzen 7 Octa Core 5700U - (8 GB/512 GB SSD/Windows 10 Home) KM413UA-EB702TS Thin and Light Laptop',\n",
              " 'ASUS VivoBook Ultra 14 Core i5 11th Gen - (8 GB/512 GB SSD/Windows 10 Home/2 GB Graphics) X413EP-EB512...',\n",
              " 'MSI GF63 Thin Core i5 9th Gen - (8 GB/1 TB HDD/Windows 10 Home/4 GB Graphics/NVIDIA GeForce GTX 1650 T...',\n",
              " 'HP 15s Ryzen 3 Dual Core 3250U - (8 GB/1 TB HDD/256 GB SSD/Windows 10 Home) 15s-GR0012AU Laptop',\n",
              " 'acer Predator Helios 300 Octa Core i7 10th Gen - (16 GB/1 TB HDD/256 GB SSD/Windows 10 Home/6 GB Graph...',\n",
              " 'HP 15s Core i3 10th Gen - (8 GB/1 TB HDD/256 GB SSD/Windows 10 Home) 15s-du1064TU Laptop',\n",
              " 'Lenovo IdeaPad Core i3 11th Gen - (8 GB/512 GB SSD/Windows 10 Home) 14ITL6 Thin and Light Laptop',\n",
              " 'acer Aspire 7 Core i5 10th Gen - (8 GB/512 GB SSD/Windows 10 Home/4 GB Graphics/NVIDIA GeForce GTX 165...',\n",
              " 'ASUS VivoBook 14 Ryzen 7 Octa Core 4700U - (8 GB/512 GB SSD/Windows 10 Home) M413IA-EK586T Thin and Li...',\n",
              " 'acer Aspire 7 Ryzen 5 Quad Core 3550H - (8 GB/512 GB SSD/Windows 10 Home/4 GB Graphics/NVIDIA GeForce ...',\n",
              " 'HP 15s Core i3 11th Gen - (8 GB/1 TB HDD/Windows 10 Home) 15s-du3038TU Thin and Light Laptop',\n",
              " 'HP Pavilion Gaming Ryzen 5 Quad Core 3550H - (8 GB/512 GB SSD/Windows 10 Home/4 GB Graphics/NVIDIA GeF...',\n",
              " 'MSI Modern 14 Ryzen 5 Hexa Core 4500U - (8 GB/512 GB SSD/Windows 10 Home) Modern 14 B4MW-410IN Noteboo...',\n",
              " 'APPLE MacBook Air M1 - (8 GB/256 GB SSD/Mac OS Big Sur) MGN63HN/A',\n",
              " 'Mi Notebook 14 Core i5 10th Gen - (8 GB/256 GB SSD/Windows 10 Home) JYU4298IN Thin and Light Laptop',\n",
              " 'ASUS Core i3 10th Gen - (4 GB/512 GB SSD/Windows 10 Home) X413JA-EK267T||X413JA-EB302T Thin and Light ...',\n",
              " 'MSI MSI Bravo 15 Ryzen 5 Hexa Core 4600H - (8 GB/512 GB SSD/Windows 10 Home/4 GB Graphics/AMD Radeon R...']"
            ]
          },
          "metadata": {
            "tags": []
          },
          "execution_count": 61
        }
      ]
    },
    {
      "cell_type": "code",
      "metadata": {
        "colab": {
          "base_uri": "https://localhost:8080/"
        },
        "id": "IbcjDkN_6YPN",
        "outputId": "3a5485b9-66e6-421c-f9ed-c1ba4d0ec7d7"
      },
      "source": [
        "len(set(products))"
      ],
      "execution_count": null,
      "outputs": [
        {
          "output_type": "execute_result",
          "data": {
            "text/plain": [
              "24"
            ]
          },
          "metadata": {
            "tags": []
          },
          "execution_count": 62
        }
      ]
    },
    {
      "cell_type": "code",
      "metadata": {
        "colab": {
          "base_uri": "https://localhost:8080/"
        },
        "id": "VYxqfiRZ-ugh",
        "outputId": "d497d173-70e0-40c2-9e5a-3abc21259681"
      },
      "source": [
        "\n",
        "for i in soup.find_all('a',href=True,attrs={'class':'_1fQZEK'}):\n",
        "  price=i.find('div',attrs={'class':'_30jeq3 _1_WHN1'})\n",
        "  prices.append(price.text)\n",
        "prices"
      ],
      "execution_count": null,
      "outputs": [
        {
          "output_type": "execute_result",
          "data": {
            "text/plain": [
              "['₹41,990',\n",
              " '₹1,09,990',\n",
              " '₹57,990',\n",
              " '₹40,990',\n",
              " '₹27,490',\n",
              " '₹31,490',\n",
              " '₹37,990',\n",
              " '₹67,551',\n",
              " '₹62,990',\n",
              " '₹51,990',\n",
              " '₹41,990',\n",
              " '₹1,16,990',\n",
              " '₹43,890',\n",
              " '₹45,990',\n",
              " '₹59,990',\n",
              " '₹59,990',\n",
              " '₹50,990',\n",
              " '₹42,490',\n",
              " '₹56,990',\n",
              " '₹51,990',\n",
              " '₹92,900',\n",
              " '₹44,999',\n",
              " '₹38,990',\n",
              " '₹62,990']"
            ]
          },
          "metadata": {
            "tags": []
          },
          "execution_count": 63
        }
      ]
    },
    {
      "cell_type": "code",
      "metadata": {
        "colab": {
          "base_uri": "https://localhost:8080/"
        },
        "id": "AHIdfRmR_UrF",
        "outputId": "9915eb0f-832a-4aa5-fec1-aab0dea46d6d"
      },
      "source": [
        "for i in soup.find_all('a',href=True,attrs={'class':'_1fQZEK'}):\n",
        "  try:\n",
        "    rating=i.find('div',attrs={'class':'_3LWZlK'})\n",
        "    ratings.append(rating.text)\n",
        "  except:\n",
        "    ratings.append(\"None\")\n",
        "    print(\"exception\")\n",
        "\n",
        "  \n",
        "ratings"
      ],
      "execution_count": null,
      "outputs": [
        {
          "output_type": "stream",
          "text": [
            "exception\n"
          ],
          "name": "stdout"
        },
        {
          "output_type": "execute_result",
          "data": {
            "text/plain": [
              "['3.9',\n",
              " '4.5',\n",
              " '4.3',\n",
              " '4.5',\n",
              " '4',\n",
              " '4.2',\n",
              " '4.1',\n",
              " 'None',\n",
              " '4.4',\n",
              " '4.3',\n",
              " '4.4',\n",
              " '4.6',\n",
              " '4.3',\n",
              " '4.6',\n",
              " '4.6',\n",
              " '4.4',\n",
              " '4.5',\n",
              " '4.1',\n",
              " '4.5',\n",
              " '4.5',\n",
              " '4.7',\n",
              " '4.3',\n",
              " '4.3',\n",
              " '3.7']"
            ]
          },
          "metadata": {
            "tags": []
          },
          "execution_count": 64
        }
      ]
    },
    {
      "cell_type": "code",
      "metadata": {
        "colab": {
          "base_uri": "https://localhost:8080/",
          "height": 204
        },
        "id": "g2xoYQGHAKSL",
        "outputId": "21f1e42d-df7b-4cfd-a178-2609bb1a3ebd"
      },
      "source": [
        "df=pd.DataFrame({'Product Name':products,'prices':prices,'ratings':ratings})\n",
        "df.head()"
      ],
      "execution_count": null,
      "outputs": [
        {
          "output_type": "execute_result",
          "data": {
            "text/html": [
              "<div>\n",
              "<style scoped>\n",
              "    .dataframe tbody tr th:only-of-type {\n",
              "        vertical-align: middle;\n",
              "    }\n",
              "\n",
              "    .dataframe tbody tr th {\n",
              "        vertical-align: top;\n",
              "    }\n",
              "\n",
              "    .dataframe thead th {\n",
              "        text-align: right;\n",
              "    }\n",
              "</style>\n",
              "<table border=\"1\" class=\"dataframe\">\n",
              "  <thead>\n",
              "    <tr style=\"text-align: right;\">\n",
              "      <th></th>\n",
              "      <th>Product Name</th>\n",
              "      <th>prices</th>\n",
              "      <th>ratings</th>\n",
              "    </tr>\n",
              "  </thead>\n",
              "  <tbody>\n",
              "    <tr>\n",
              "      <th>0</th>\n",
              "      <td>ASUS Ryzen 5 Quad Core 3500U - (8 GB/1 TB HDD/...</td>\n",
              "      <td>₹41,990</td>\n",
              "      <td>3.9</td>\n",
              "    </tr>\n",
              "    <tr>\n",
              "      <th>1</th>\n",
              "      <td>MSI GL65 Leopard Core i7 10th Gen - (16 GB/1 T...</td>\n",
              "      <td>₹1,09,990</td>\n",
              "      <td>4.5</td>\n",
              "    </tr>\n",
              "    <tr>\n",
              "      <th>2</th>\n",
              "      <td>DELL Inspiron 3501 Core i5 11th Gen - (8 GB/1 ...</td>\n",
              "      <td>₹57,990</td>\n",
              "      <td>4.3</td>\n",
              "    </tr>\n",
              "    <tr>\n",
              "      <th>3</th>\n",
              "      <td>HP 14s Core i3 11th Gen - (8 GB/256 GB SSD/Win...</td>\n",
              "      <td>₹40,990</td>\n",
              "      <td>4.5</td>\n",
              "    </tr>\n",
              "    <tr>\n",
              "      <th>4</th>\n",
              "      <td>HP 15s Athlon Dual Core - (4 GB/1 TB HDD/Windo...</td>\n",
              "      <td>₹27,490</td>\n",
              "      <td>4</td>\n",
              "    </tr>\n",
              "  </tbody>\n",
              "</table>\n",
              "</div>"
            ],
            "text/plain": [
              "                                        Product Name     prices ratings\n",
              "0  ASUS Ryzen 5 Quad Core 3500U - (8 GB/1 TB HDD/...    ₹41,990     3.9\n",
              "1  MSI GL65 Leopard Core i7 10th Gen - (16 GB/1 T...  ₹1,09,990     4.5\n",
              "2  DELL Inspiron 3501 Core i5 11th Gen - (8 GB/1 ...    ₹57,990     4.3\n",
              "3  HP 14s Core i3 11th Gen - (8 GB/256 GB SSD/Win...    ₹40,990     4.5\n",
              "4  HP 15s Athlon Dual Core - (4 GB/1 TB HDD/Windo...    ₹27,490       4"
            ]
          },
          "metadata": {
            "tags": []
          },
          "execution_count": 65
        }
      ]
    },
    {
      "cell_type": "code",
      "metadata": {
        "id": "nYVIXDElF9fJ"
      },
      "source": [
        ""
      ],
      "execution_count": null,
      "outputs": []
    }
  ]
}